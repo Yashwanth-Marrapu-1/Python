{
 "cells": [
  {
   "cell_type": "markdown",
   "id": "7a40eed1",
   "metadata": {},
   "source": [
    "# Question : https://www.hackerrank.com/challenges/mark-and-toys/problem?isFullScreen=true&h_l=interview&playlist_slugs%5B%5D=interview-preparation-kit&playlist_slugs%5B%5D=sorting"
   ]
  },
  {
   "cell_type": "code",
   "execution_count": 2,
   "id": "ea37021b",
   "metadata": {},
   "outputs": [],
   "source": [
    "def maximumToys(prices, k):\n",
    "    # Write your code here\n",
    "    prices.sort() # sorted the prices\n",
    "    sum_prices = 0 # sum of the prices of toys\n",
    "    for i in range(len(prices)):\n",
    "        sum_prices = sum_prices + prices[i]\n",
    "        if(sum_prices>=k):\n",
    "            return i\n"
   ]
  }
 ],
 "metadata": {
  "kernelspec": {
   "display_name": "Python 3 (ipykernel)",
   "language": "python",
   "name": "python3"
  },
  "language_info": {
   "codemirror_mode": {
    "name": "ipython",
    "version": 3
   },
   "file_extension": ".py",
   "mimetype": "text/x-python",
   "name": "python",
   "nbconvert_exporter": "python",
   "pygments_lexer": "ipython3",
   "version": "3.9.7"
  }
 },
 "nbformat": 4,
 "nbformat_minor": 5
}
