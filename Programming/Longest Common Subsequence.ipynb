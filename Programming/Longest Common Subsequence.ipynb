{
 "cells": [
  {
   "cell_type": "markdown",
   "id": "3f966c86",
   "metadata": {},
   "source": [
    "# Longest Common Subsequence"
   ]
  },
  {
   "cell_type": "code",
   "execution_count": 15,
   "id": "b1b830a4",
   "metadata": {},
   "outputs": [
    {
     "name": "stdout",
     "output_type": "stream",
     "text": [
      "Length of Longest Common Subsequence is :  4\n"
     ]
    }
   ],
   "source": [
    "def lcs(str1, str2):\n",
    "    #length of the 2 strings\n",
    "    m = len(str1)\n",
    "    n = len(str2)\n",
    "    # Array for storing the dp values\n",
    "    LCSdp = [[0]*(n + 1) for i in range(m + 1)]\n",
    "    #print(LCSdp)\n",
    "    for i in range(m + 1):\n",
    "        for j in range(n + 1):\n",
    "            if i == 0 or j == 0 :\n",
    "                LCSdp[i][j] = 0\n",
    "            elif str1[i-1] == str2[j-1]:\n",
    "                LCSdp[i][j] = LCSdp[i-1][j-1]+1\n",
    "            else:\n",
    "                LCSdp[i][j] = max(LCSdp[i-1][j], LCSdp[i][j-1])\n",
    " \n",
    "    # LCSdp[m][n] contains the length of LCS\n",
    "    #print(LCSdp)\n",
    "    return LCSdp[m][n]\n",
    "\n",
    "if __name__==\"__main__\":\n",
    "    str1 = \"abcdaf\"\n",
    "    str2 = \"acbcf\"\n",
    "    print(\"Length of Longest Common Subsequence is : \", lcs(str1, str2))"
   ]
  },
  {
   "cell_type": "code",
   "execution_count": null,
   "id": "48207568",
   "metadata": {},
   "outputs": [],
   "source": []
  }
 ],
 "metadata": {
  "kernelspec": {
   "display_name": "Python 3 (ipykernel)",
   "language": "python",
   "name": "python3"
  },
  "language_info": {
   "codemirror_mode": {
    "name": "ipython",
    "version": 3
   },
   "file_extension": ".py",
   "mimetype": "text/x-python",
   "name": "python",
   "nbconvert_exporter": "python",
   "pygments_lexer": "ipython3",
   "version": "3.9.7"
  }
 },
 "nbformat": 4,
 "nbformat_minor": 5
}
