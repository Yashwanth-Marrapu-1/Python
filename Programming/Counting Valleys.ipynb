{
 "cells": [
  {
   "cell_type": "markdown",
   "id": "66a19792",
   "metadata": {},
   "source": [
    "# Question : https://www.hackerrank.com/challenges/counting-valleys/problem?isFullScreen=true&h_l=interview&playlist_slugs%5B%5D=interview-preparation-kit&playlist_slugs%5B%5D=warmup"
   ]
  },
  {
   "cell_type": "code",
   "execution_count": 1,
   "id": "bd0cfb31",
   "metadata": {},
   "outputs": [],
   "source": [
    "def countingValleys(steps, path):\n",
    "    # Write your code here\n",
    "    c=0 # count of steps\n",
    "    Valley =0 # Number of Valleys\n",
    "    temp = 0 # To store previous step value\n",
    "    for i in range(steps):\n",
    "        if(path[i]=='D'):\n",
    "            temp = c\n",
    "            c = c - 1\n",
    "        else:\n",
    "            temp = c\n",
    "            c = c + 1\n",
    "        if(c==0 and temp<0):\n",
    "            Valley = Valley + 1\n",
    "    return Valley"
   ]
  },
  {
   "cell_type": "code",
   "execution_count": null,
   "id": "7fb2f7c0",
   "metadata": {},
   "outputs": [],
   "source": []
  }
 ],
 "metadata": {
  "kernelspec": {
   "display_name": "Python 3 (ipykernel)",
   "language": "python",
   "name": "python3"
  },
  "language_info": {
   "codemirror_mode": {
    "name": "ipython",
    "version": 3
   },
   "file_extension": ".py",
   "mimetype": "text/x-python",
   "name": "python",
   "nbconvert_exporter": "python",
   "pygments_lexer": "ipython3",
   "version": "3.9.7"
  }
 },
 "nbformat": 4,
 "nbformat_minor": 5
}
