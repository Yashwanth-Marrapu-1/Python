{
 "cells": [
  {
   "cell_type": "markdown",
   "id": "a885fa0d",
   "metadata": {},
   "source": [
    "# Question : https://www.hackerrank.com/challenges/jumping-on-the-clouds/problem?isFullScreen=true&h_l=interview&playlist_slugs%5B%5D=interview-preparation-kit&playlist_slugs%5B%5D=warmup"
   ]
  },
  {
   "cell_type": "raw",
   "id": "aa7c2e87",
   "metadata": {},
   "source": [
    "example : \n",
    "input : c = [0, 0, 1, 0, 0, 1, 0]\n",
    "output : 4"
   ]
  },
  {
   "cell_type": "code",
   "execution_count": 1,
   "id": "34ac6912",
   "metadata": {},
   "outputs": [],
   "source": [
    "def jumpingOnClouds(c):\n",
    "    ans = 0 #Minimum number of jumps\n",
    "    count = 0 #counting of consecutive zero's\n",
    "    for i in range(0,len(c)):\n",
    "        if(c[i]==0):\n",
    "            count = count+1\n",
    "            if(count==2):\n",
    "                ans = ans + 1\n",
    "                count = 0\n",
    "        else :\n",
    "            ans = ans + 1\n",
    "            count = 0\n",
    "    return ans\n"
   ]
  }
 ],
 "metadata": {
  "kernelspec": {
   "display_name": "Python 3 (ipykernel)",
   "language": "python",
   "name": "python3"
  },
  "language_info": {
   "codemirror_mode": {
    "name": "ipython",
    "version": 3
   },
   "file_extension": ".py",
   "mimetype": "text/x-python",
   "name": "python",
   "nbconvert_exporter": "python",
   "pygments_lexer": "ipython3",
   "version": "3.9.7"
  }
 },
 "nbformat": 4,
 "nbformat_minor": 5
}
