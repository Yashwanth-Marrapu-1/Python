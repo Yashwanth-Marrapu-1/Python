{
 "cells": [
  {
   "cell_type": "markdown",
   "id": "0aac495b",
   "metadata": {},
   "source": [
    "# Selection Sort\n",
    "\n",
    "Time Complexities :\n",
    "\n",
    "Best  -  O(n2)\n",
    "\n",
    "Worst   -  O(n2)\n",
    "\n",
    "Average -  O(n2)"
   ]
  },
  {
   "cell_type": "code",
   "execution_count": 4,
   "id": "fff62fb8",
   "metadata": {},
   "outputs": [
    {
     "name": "stdout",
     "output_type": "stream",
     "text": [
      "Un-Sorted Array : [44, 22, 1, 5, -10, -2, 77, 11, 3, 55]\n",
      "Sorted Array : [-10, -2, 1, 3, 5, 11, 22, 44, 55, 77]\n"
     ]
    }
   ],
   "source": [
    "def selection_sort(arr,size):\n",
    "  \n",
    "  for i in range(size):\n",
    "    min_ind = i\n",
    "    for j in range(min_ind+1,size):\n",
    "      if(arr[j]<arr[min_ind]):\n",
    "        min_ind = j\n",
    "    arr[i], arr[min_ind] = arr[min_ind], arr[i]\n",
    "\n",
    "if __name__==\"__main__\":\n",
    "\n",
    "  arr = [44,22,1,5,-10,-2,77,11,3,55]\n",
    "  print(\"Un-Sorted Array :\",arr)\n",
    "  size = len(arr)\n",
    "  selection_sort(arr,size)\n",
    "  print(\"Sorted Array :\",arr)"
   ]
  }
 ],
 "metadata": {
  "kernelspec": {
   "display_name": "Python 3 (ipykernel)",
   "language": "python",
   "name": "python3"
  },
  "language_info": {
   "codemirror_mode": {
    "name": "ipython",
    "version": 3
   },
   "file_extension": ".py",
   "mimetype": "text/x-python",
   "name": "python",
   "nbconvert_exporter": "python",
   "pygments_lexer": "ipython3",
   "version": "3.9.7"
  }
 },
 "nbformat": 4,
 "nbformat_minor": 5
}
