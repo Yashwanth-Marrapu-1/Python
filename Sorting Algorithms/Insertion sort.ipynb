{
 "cells": [
  {
   "cell_type": "markdown",
   "id": "0aac495b",
   "metadata": {},
   "source": [
    "# Insertion Sort\n",
    "\n",
    "Time Complexities :\n",
    "\n",
    "Best  -  O(n)\n",
    "\n",
    "Worst   -  O(n2)\n",
    "\n",
    "Average -  O(n2)"
   ]
  },
  {
   "cell_type": "code",
   "execution_count": 10,
   "id": "fff62fb8",
   "metadata": {},
   "outputs": [
    {
     "name": "stdout",
     "output_type": "stream",
     "text": [
      "Un-Sorted Array : [4, 188, 5, -2, 7, 81, 3, 55]\n",
      "Sorted Array : [-2, 3, 4, 5, 7, 55, 81, 188]\n"
     ]
    }
   ],
   "source": [
    "def insertion_sort(arr,size):\n",
    "  \n",
    "  for i in range(1,size):\n",
    "    key = arr[i]\n",
    "    j = i-1\n",
    "    while j>=0 and key < arr[j]:\n",
    "        arr[j + 1] = arr[j]\n",
    "        j = j - 1\n",
    "    arr[j + 1] = key\n",
    "\n",
    "if __name__==\"__main__\":\n",
    "\n",
    "  arr = [4,188,5,-2,7,81,3,55]\n",
    "  print(\"Un-Sorted Array :\",arr)\n",
    "  size = len(arr)\n",
    "  insertion_sort(arr,size)\n",
    "  print(\"Sorted Array :\",arr)"
   ]
  }
 ],
 "metadata": {
  "kernelspec": {
   "display_name": "Python 3 (ipykernel)",
   "language": "python",
   "name": "python3"
  },
  "language_info": {
   "codemirror_mode": {
    "name": "ipython",
    "version": 3
   },
   "file_extension": ".py",
   "mimetype": "text/x-python",
   "name": "python",
   "nbconvert_exporter": "python",
   "pygments_lexer": "ipython3",
   "version": "3.9.7"
  }
 },
 "nbformat": 4,
 "nbformat_minor": 5
}
